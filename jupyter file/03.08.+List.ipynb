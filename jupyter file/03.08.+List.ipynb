{
 "cells": [
  {
   "cell_type": "markdown",
   "id": "086276d0-6533-404a-b1f3-76643531205f",
   "metadata": {},
   "source": [
    "### Bayou Data\n",
    "##### By: Risdan Kristori\n",
    "##### Kursus Python Lengkap Berbahasa Indonesia"
   ]
  },
  {
   "cell_type": "markdown",
   "id": "1248bd9c-a76f-441f-b1cd-647fe61be679",
   "metadata": {},
   "source": [
    "# List"
   ]
  },
  {
   "cell_type": "markdown",
   "id": "e07bdc79-75eb-4244-bd50-bd4c5d22dee3",
   "metadata": {},
   "source": [
    "## 1. Sintak List"
   ]
  },
  {
   "cell_type": "markdown",
   "id": "8b24ed0d-1306-4c4d-813c-8d4d1d484fc7",
   "metadata": {},
   "source": [
    "### - List dengan satu tipe data"
   ]
  },
  {
   "cell_type": "code",
   "execution_count": 1,
   "id": "79e81e06-81e7-4f42-be4a-3dd3cbfa12d3",
   "metadata": {},
   "outputs": [
    {
     "data": {
      "text/plain": [
       "[1, 2, 3, 4]"
      ]
     },
     "execution_count": 1,
     "metadata": {},
     "output_type": "execute_result"
    }
   ],
   "source": [
    "[1,2,3,4]"
   ]
  },
  {
   "cell_type": "markdown",
   "id": "25b9e02f-4acb-40df-9368-1544a3d71989",
   "metadata": {},
   "source": [
    "### - List dapat dapat juga menyimpan objek dengan tipe data yang berbeda"
   ]
  },
  {
   "cell_type": "code",
   "execution_count": 2,
   "id": "fe3275c8-b723-4498-af24-92ea4ea92a08",
   "metadata": {},
   "outputs": [
    {
     "data": {
      "text/plain": [
       "[1, 2, 'TIGA']"
      ]
     },
     "execution_count": 2,
     "metadata": {},
     "output_type": "execute_result"
    }
   ],
   "source": [
    "[1, 2, \"TIGA\"]"
   ]
  },
  {
   "cell_type": "markdown",
   "id": "8a642ea8-d130-4ee8-9f07-e1e632977e7d",
   "metadata": {},
   "source": [
    "### - list dapat digunakan untuk menyimpan list (nested list)"
   ]
  },
  {
   "cell_type": "code",
   "execution_count": 3,
   "id": "5bd4eae1-ee9a-4bbc-8499-99bdb927e3d0",
   "metadata": {},
   "outputs": [
    {
     "data": {
      "text/plain": [
       "[1, [1, 2], 3]"
      ]
     },
     "execution_count": 3,
     "metadata": {},
     "output_type": "execute_result"
    }
   ],
   "source": [
    "[1, [1,2], 3]"
   ]
  },
  {
   "cell_type": "markdown",
   "id": "b748e010-72db-4748-9a9e-443579b4d1f9",
   "metadata": {},
   "source": [
    "## 2. Sifat dan Properti Tipe Data List"
   ]
  },
  {
   "cell_type": "code",
   "execution_count": 4,
   "id": "9a499713-156e-4308-bbef-40aa97117f52",
   "metadata": {},
   "outputs": [],
   "source": [
    "a = [1,2,3]\n",
    "b = [4,5,6]"
   ]
  },
  {
   "cell_type": "markdown",
   "id": "5ef108cc-e81c-42d6-a3e3-7b34a25f7ec2",
   "metadata": {},
   "source": [
    "### 2.1 List bersifat berurutan berdasarkan indexnya, kita dapat melakukan indexing, slicing, concatenatation dan multiplication"
   ]
  },
  {
   "cell_type": "code",
   "execution_count": 5,
   "id": "79a0ed46-7343-4c05-aa20-6c89c59d99fe",
   "metadata": {},
   "outputs": [
    {
     "data": {
      "text/plain": [
       "1"
      ]
     },
     "execution_count": 5,
     "metadata": {},
     "output_type": "execute_result"
    }
   ],
   "source": [
    "a[0]"
   ]
  },
  {
   "cell_type": "code",
   "execution_count": 6,
   "id": "f84ea76c-d72f-4250-bef1-a70cf584c55d",
   "metadata": {},
   "outputs": [
    {
     "data": {
      "text/plain": [
       "3"
      ]
     },
     "execution_count": 6,
     "metadata": {},
     "output_type": "execute_result"
    }
   ],
   "source": [
    "a[-1]"
   ]
  },
  {
   "cell_type": "code",
   "execution_count": 7,
   "id": "ad38a304-6eac-47c7-a598-2c7ac04e712b",
   "metadata": {},
   "outputs": [
    {
     "data": {
      "text/plain": [
       "[4]"
      ]
     },
     "execution_count": 7,
     "metadata": {},
     "output_type": "execute_result"
    }
   ],
   "source": [
    "b[:1]"
   ]
  },
  {
   "cell_type": "code",
   "execution_count": 8,
   "id": "7015d358-3499-4192-a8b7-6a569304532b",
   "metadata": {},
   "outputs": [
    {
     "data": {
      "text/plain": [
       "[4, 5]"
      ]
     },
     "execution_count": 8,
     "metadata": {},
     "output_type": "execute_result"
    }
   ],
   "source": [
    "b[:2]"
   ]
  },
  {
   "cell_type": "markdown",
   "id": "761783b9-423c-4d62-959a-517de9c79202",
   "metadata": {},
   "source": [
    "### 2.2 List bersifat mutable: dapat berubah ubah"
   ]
  },
  {
   "cell_type": "code",
   "execution_count": 9,
   "id": "750ccb95-1e5c-409b-b23a-f7e1f6ca7d92",
   "metadata": {},
   "outputs": [
    {
     "data": {
      "text/plain": [
       "1"
      ]
     },
     "execution_count": 9,
     "metadata": {},
     "output_type": "execute_result"
    }
   ],
   "source": [
    "a[0]"
   ]
  },
  {
   "cell_type": "code",
   "execution_count": 10,
   "id": "81cddd57-15f0-4ffe-8f71-0d42303f432e",
   "metadata": {},
   "outputs": [],
   "source": [
    "a[0] = \"SATU\""
   ]
  },
  {
   "cell_type": "code",
   "execution_count": 11,
   "id": "ece22697-fe56-4663-b1ff-6b718daa6860",
   "metadata": {},
   "outputs": [
    {
     "data": {
      "text/plain": [
       "['SATU', 2, 3]"
      ]
     },
     "execution_count": 11,
     "metadata": {},
     "output_type": "execute_result"
    }
   ],
   "source": [
    "a"
   ]
  },
  {
   "cell_type": "markdown",
   "id": "9b99f0e7-b8f6-44f5-8636-ddf22ddfea36",
   "metadata": {},
   "source": [
    "### 2.3 Kita dapat menempelkan list dengan list (concantenation)"
   ]
  },
  {
   "cell_type": "code",
   "execution_count": 12,
   "id": "fb5bd1c6-2b00-44ee-874f-54d735a980a6",
   "metadata": {},
   "outputs": [
    {
     "data": {
      "text/plain": [
       "['SATU', 2, 3, 4, 5, 6]"
      ]
     },
     "execution_count": 12,
     "metadata": {},
     "output_type": "execute_result"
    }
   ],
   "source": [
    "a+b"
   ]
  },
  {
   "cell_type": "markdown",
   "id": "95b97023-54f0-4354-b4e0-6b30be09d764",
   "metadata": {},
   "source": [
    "### 2.4 Kita dapat mengalikan list dengan integer (repetition)"
   ]
  },
  {
   "cell_type": "code",
   "execution_count": 13,
   "id": "855c56c8-af32-4abe-a4bf-162047140e6f",
   "metadata": {},
   "outputs": [
    {
     "data": {
      "text/plain": [
       "[4, 5, 6]"
      ]
     },
     "execution_count": 13,
     "metadata": {},
     "output_type": "execute_result"
    }
   ],
   "source": [
    "b"
   ]
  },
  {
   "cell_type": "code",
   "execution_count": 14,
   "id": "6768ed55-229c-413f-8289-6912bfd662a2",
   "metadata": {},
   "outputs": [
    {
     "data": {
      "text/plain": [
       "[4, 5, 6, 4, 5, 6, 4, 5, 6]"
      ]
     },
     "execution_count": 14,
     "metadata": {},
     "output_type": "execute_result"
    }
   ],
   "source": [
    "b*3"
   ]
  },
  {
   "cell_type": "markdown",
   "id": "28d1cea3-4c92-4c5b-a483-5ea42bc6c565",
   "metadata": {},
   "source": [
    "## 4. Metode"
   ]
  },
  {
   "cell_type": "code",
   "execution_count": 15,
   "id": "a29ae5bd-9674-4258-ac22-4efbe1a9762c",
   "metadata": {},
   "outputs": [],
   "source": [
    "a = [2,1,3,5,6]\n",
    "b = [\"a\", \"c\", \"b\"]"
   ]
  },
  {
   "cell_type": "markdown",
   "id": "633525d0-d4c1-4f88-8293-c78e4f376c7d",
   "metadata": {},
   "source": [
    "### - append(): Menambahkan anggota list"
   ]
  },
  {
   "cell_type": "code",
   "execution_count": 16,
   "id": "e9d23b01-a275-42fe-b22d-769f8f5c0ebb",
   "metadata": {},
   "outputs": [],
   "source": [
    "a.append(7)"
   ]
  },
  {
   "cell_type": "code",
   "execution_count": 17,
   "id": "3e0e0abc-9b20-4822-bb64-eeb89bfed6a1",
   "metadata": {},
   "outputs": [
    {
     "data": {
      "text/plain": [
       "[2, 1, 3, 5, 6, 7]"
      ]
     },
     "execution_count": 17,
     "metadata": {},
     "output_type": "execute_result"
    }
   ],
   "source": [
    "a"
   ]
  },
  {
   "cell_type": "code",
   "execution_count": 18,
   "id": "46913e4f-b3da-4ff3-a668-2d7c72d4e61d",
   "metadata": {},
   "outputs": [
    {
     "data": {
      "text/plain": [
       "['a', 'c', 'b', 'd']"
      ]
     },
     "execution_count": 18,
     "metadata": {},
     "output_type": "execute_result"
    }
   ],
   "source": [
    "b.append(\"d\")\n",
    "b"
   ]
  },
  {
   "cell_type": "markdown",
   "id": "7a83b118-dfaa-44ec-a72f-54638f600dae",
   "metadata": {},
   "source": [
    "### - sort(): Mengurutkan anggota list"
   ]
  },
  {
   "cell_type": "code",
   "execution_count": 19,
   "id": "c3ef0024-cd0d-4547-bf4d-f92fc25d22d6",
   "metadata": {},
   "outputs": [
    {
     "data": {
      "text/plain": [
       "[1, 2, 3, 5, 6, 7]"
      ]
     },
     "execution_count": 19,
     "metadata": {},
     "output_type": "execute_result"
    }
   ],
   "source": [
    "a.sort()\n",
    "a"
   ]
  },
  {
   "cell_type": "code",
   "execution_count": 20,
   "id": "a6744fa0-48e3-40bb-a9ae-2e398916e80e",
   "metadata": {},
   "outputs": [],
   "source": [
    "a.sort(reverse=True)"
   ]
  },
  {
   "cell_type": "code",
   "execution_count": 21,
   "id": "5a438951-f5e4-493b-9f04-4a33edae9f9f",
   "metadata": {},
   "outputs": [
    {
     "data": {
      "text/plain": [
       "[7, 6, 5, 3, 2, 1]"
      ]
     },
     "execution_count": 21,
     "metadata": {},
     "output_type": "execute_result"
    }
   ],
   "source": [
    "a"
   ]
  },
  {
   "cell_type": "markdown",
   "id": "95173e07-8297-4c4e-b9ac-d21b5ef68d79",
   "metadata": {},
   "source": [
    "### - reverse(): Membalikkan urutan anggota list"
   ]
  },
  {
   "cell_type": "code",
   "execution_count": 22,
   "id": "69641484-c2f3-49c2-9798-3b8da5261cb5",
   "metadata": {},
   "outputs": [
    {
     "data": {
      "text/plain": [
       "['a', 'c', 'b', 'd']"
      ]
     },
     "execution_count": 22,
     "metadata": {},
     "output_type": "execute_result"
    }
   ],
   "source": [
    "b"
   ]
  },
  {
   "cell_type": "code",
   "execution_count": 23,
   "id": "42b58e45-d39e-4969-b5ac-25cfddb1d363",
   "metadata": {},
   "outputs": [],
   "source": [
    "b.reverse()"
   ]
  },
  {
   "cell_type": "code",
   "execution_count": 24,
   "id": "c383bc7f-f463-4717-8ee6-f8eb1bb05310",
   "metadata": {},
   "outputs": [
    {
     "data": {
      "text/plain": [
       "['d', 'b', 'c', 'a']"
      ]
     },
     "execution_count": 24,
     "metadata": {},
     "output_type": "execute_result"
    }
   ],
   "source": [
    "b"
   ]
  },
  {
   "cell_type": "markdown",
   "id": "8b739710-6c6c-4536-a905-e9ee08a30e9d",
   "metadata": {},
   "source": [
    "### - clear(): Menghapus semua anggota list"
   ]
  },
  {
   "cell_type": "code",
   "execution_count": 25,
   "id": "ff6f892d-fcc0-4309-b0c1-211a3b55e8b3",
   "metadata": {},
   "outputs": [],
   "source": [
    "a.clear()"
   ]
  },
  {
   "cell_type": "code",
   "execution_count": 26,
   "id": "da772baa-9188-41fc-b078-722a858db97d",
   "metadata": {},
   "outputs": [
    {
     "data": {
      "text/plain": [
       "[]"
      ]
     },
     "execution_count": 26,
     "metadata": {},
     "output_type": "execute_result"
    }
   ],
   "source": [
    "a"
   ]
  },
  {
   "cell_type": "markdown",
   "id": "489c5be1-86e9-408f-befb-b095040eb839",
   "metadata": {},
   "source": [
    "### - pop(i): Mengembalikan dan menghapus list dengan indeks ke-i"
   ]
  },
  {
   "cell_type": "code",
   "execution_count": 28,
   "id": "f21cad29-7906-43f3-b41a-ef22d14f65ba",
   "metadata": {},
   "outputs": [
    {
     "data": {
      "text/plain": [
       "'c'"
      ]
     },
     "execution_count": 28,
     "metadata": {},
     "output_type": "execute_result"
    }
   ],
   "source": [
    "b.pop(2)"
   ]
  },
  {
   "cell_type": "code",
   "execution_count": 29,
   "id": "0d2af379-6868-4bdb-80e4-f73753199560",
   "metadata": {},
   "outputs": [
    {
     "data": {
      "text/plain": [
       "['d', 'b', 'a']"
      ]
     },
     "execution_count": 29,
     "metadata": {},
     "output_type": "execute_result"
    }
   ],
   "source": [
    "b"
   ]
  },
  {
   "cell_type": "markdown",
   "id": "bd11a4b9-76fc-4c94-b394-b95d4b1d2bc6",
   "metadata": {},
   "source": [
    "- Metode lainnya: https://python-reference.readthedocs.io/en/latest/docs/list/"
   ]
  },
  {
   "cell_type": "markdown",
   "id": "e0c7bf2e-7a2d-41a0-8518-d1078e2fae25",
   "metadata": {},
   "source": [
    "## 5. Build-in function untuk list"
   ]
  },
  {
   "cell_type": "markdown",
   "id": "76451678-8f3e-4269-b471-fcbc304a3481",
   "metadata": {},
   "source": [
    "### - list(): Mengkonversi menjadi tipe data list"
   ]
  },
  {
   "cell_type": "code",
   "execution_count": 30,
   "id": "a35bf878-f273-44e8-a7f7-2538d7e70c6d",
   "metadata": {},
   "outputs": [],
   "source": [
    "b = (1,2)"
   ]
  },
  {
   "cell_type": "code",
   "execution_count": 31,
   "id": "2890e97b-7e5b-4769-b74c-e1d7d1de5249",
   "metadata": {},
   "outputs": [
    {
     "data": {
      "text/plain": [
       "[1, 2]"
      ]
     },
     "execution_count": 31,
     "metadata": {},
     "output_type": "execute_result"
    }
   ],
   "source": [
    "list(b)"
   ]
  },
  {
   "cell_type": "code",
   "execution_count": 32,
   "id": "1b326222-077f-433f-a240-6c114f29fc47",
   "metadata": {},
   "outputs": [
    {
     "data": {
      "text/plain": [
       "['h', 'a', 'i']"
      ]
     },
     "execution_count": 32,
     "metadata": {},
     "output_type": "execute_result"
    }
   ],
   "source": [
    "c = \"hai\"\n",
    "list(c)"
   ]
  },
  {
   "cell_type": "markdown",
   "id": "8a60be65-a811-4510-833c-c64621956a97",
   "metadata": {},
   "source": [
    "### - max(): Mengambil nilai maksimal"
   ]
  },
  {
   "cell_type": "code",
   "execution_count": 33,
   "id": "0184de59-90fc-4e0e-8b12-14b3032ebd05",
   "metadata": {},
   "outputs": [],
   "source": [
    "d = [2,3,4,5,6,1]"
   ]
  },
  {
   "cell_type": "code",
   "execution_count": 34,
   "id": "948c0d7b-b904-4b73-acc0-966c922b4372",
   "metadata": {},
   "outputs": [
    {
     "data": {
      "text/plain": [
       "6"
      ]
     },
     "execution_count": 34,
     "metadata": {},
     "output_type": "execute_result"
    }
   ],
   "source": [
    "max(d)"
   ]
  },
  {
   "cell_type": "markdown",
   "id": "cf5f8532-f273-41f8-ace2-2324e9f3cb26",
   "metadata": {},
   "source": [
    "### - min(): Mengambil nilai minimal"
   ]
  },
  {
   "cell_type": "code",
   "execution_count": 35,
   "id": "80c186e5-c8df-49d6-a716-0f269042c4b9",
   "metadata": {},
   "outputs": [
    {
     "data": {
      "text/plain": [
       "1"
      ]
     },
     "execution_count": 35,
     "metadata": {},
     "output_type": "execute_result"
    }
   ],
   "source": [
    "min(d)"
   ]
  },
  {
   "cell_type": "markdown",
   "id": "72ad0d00-4fe1-46ac-aeb6-a5cce0391b5f",
   "metadata": {},
   "source": [
    "### - Fungsi yang telah dipelajari seperti type, len, dan print"
   ]
  },
  {
   "cell_type": "code",
   "execution_count": 36,
   "id": "f3a1dd11-edd4-4be8-963c-ee714a47025d",
   "metadata": {},
   "outputs": [
    {
     "data": {
      "text/plain": [
       "list"
      ]
     },
     "execution_count": 36,
     "metadata": {},
     "output_type": "execute_result"
    }
   ],
   "source": [
    "type(d)"
   ]
  },
  {
   "cell_type": "code",
   "execution_count": 37,
   "id": "3b521347-5847-416b-9222-378b73e9214c",
   "metadata": {},
   "outputs": [
    {
     "data": {
      "text/plain": [
       "6"
      ]
     },
     "execution_count": 37,
     "metadata": {},
     "output_type": "execute_result"
    }
   ],
   "source": [
    "len(d)"
   ]
  },
  {
   "cell_type": "code",
   "execution_count": 38,
   "id": "2487c73b-cafd-49a7-be0e-2e067cc89408",
   "metadata": {},
   "outputs": [
    {
     "name": "stdout",
     "output_type": "stream",
     "text": [
      "[2, 3, 4, 5, 6, 1]\n"
     ]
    }
   ],
   "source": [
    "print(d)"
   ]
  },
  {
   "cell_type": "code",
   "execution_count": 1,
   "id": "91dda0e1-e9e3-4676-a01a-d8ae6a4f6093",
   "metadata": {},
   "outputs": [],
   "source": [
    "data_kocak = [1,2,4,52,2]"
   ]
  },
  {
   "cell_type": "code",
   "execution_count": 2,
   "id": "3c8d9000-11c7-40fc-a31b-466bfc482675",
   "metadata": {},
   "outputs": [
    {
     "data": {
      "text/plain": [
       "list"
      ]
     },
     "execution_count": 2,
     "metadata": {},
     "output_type": "execute_result"
    }
   ],
   "source": [
    "type(data_kocak)"
   ]
  },
  {
   "cell_type": "code",
   "execution_count": null,
   "id": "3f27a458-ac1f-4241-a94d-f413b7f3e0a5",
   "metadata": {},
   "outputs": [],
   "source": [
    "1"
   ]
  }
 ],
 "metadata": {
  "kernelspec": {
   "display_name": "Python 3 (ipykernel)",
   "language": "python",
   "name": "python3"
  },
  "language_info": {
   "codemirror_mode": {
    "name": "ipython",
    "version": 3
   },
   "file_extension": ".py",
   "mimetype": "text/x-python",
   "name": "python",
   "nbconvert_exporter": "python",
   "pygments_lexer": "ipython3",
   "version": "3.11.7"
  }
 },
 "nbformat": 4,
 "nbformat_minor": 5
}
