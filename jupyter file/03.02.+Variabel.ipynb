{
 "cells": [
  {
   "cell_type": "markdown",
   "id": "15396705-79b9-4210-a835-66b1d2d00731",
   "metadata": {},
   "source": [
    "### Bayou Data\n",
    "#### By: Risdan Kristori\n",
    "#### Kursus Python Lengkap Berbahasa Indonesia"
   ]
  },
  {
   "attachments": {},
   "cell_type": "markdown",
   "id": "9f8c17fa-7afc-43c0-a49b-e3f5f858ff4d",
   "metadata": {},
   "source": [
    "# Variabel pada Python"
   ]
  },
  {
   "cell_type": "markdown",
   "id": "263e1569-5e37-4a4c-b66f-4e7f9c1c95cb",
   "metadata": {},
   "source": [
    "## 1. Contoh membuat variabel"
   ]
  },
  {
   "cell_type": "code",
   "execution_count": 2,
   "id": "ed94fc28-05dd-42fc-b8e2-d2c9dc218be8",
   "metadata": {},
   "outputs": [],
   "source": [
    "var = 100"
   ]
  },
  {
   "cell_type": "code",
   "execution_count": 3,
   "id": "584f10f5-b3d5-4781-b9ce-0cbba7ddffc7",
   "metadata": {},
   "outputs": [
    {
     "data": {
      "text/plain": [
       "100"
      ]
     },
     "execution_count": 3,
     "metadata": {},
     "output_type": "execute_result"
    }
   ],
   "source": [
    "var"
   ]
  },
  {
   "cell_type": "code",
   "execution_count": 1,
   "id": "486ee6ba-251c-45b3-99c5-a3a0ebf5cae9",
   "metadata": {},
   "outputs": [
    {
     "ename": "NameError",
     "evalue": "name 'VAR' is not defined",
     "output_type": "error",
     "traceback": [
      "\u001b[1;31m---------------------------------------------------------------------------\u001b[0m",
      "\u001b[1;31mNameError\u001b[0m                                 Traceback (most recent call last)",
      "Cell \u001b[1;32mIn[1], line 1\u001b[0m\n\u001b[1;32m----> 1\u001b[0m VAR\n",
      "\u001b[1;31mNameError\u001b[0m: name 'VAR' is not defined"
     ]
    }
   ],
   "source": [
    "# Variabel bersifat case sensitif, artinya huruf besar dan kecil di berbeda var tidak sama dengan VAR\n",
    "VAR"
   ]
  },
  {
   "cell_type": "markdown",
   "id": "75b62fc0-c0bc-4a95-b4e9-cc2586d8cf65",
   "metadata": {},
   "source": [
    "## 2. Aturan Nama Variabel"
   ]
  },
  {
   "cell_type": "markdown",
   "id": "4d59ede2-0fc1-4592-8aba-5dcd2f4e3c8a",
   "metadata": {},
   "source": [
    "- Nama variabel tidak boleh dimulai dengan angka"
   ]
  },
  {
   "cell_type": "code",
   "execution_count": 7,
   "id": "e3a762c4-f23d-4d17-9485-b503c0bc33b7",
   "metadata": {},
   "outputs": [
    {
     "ename": "SyntaxError",
     "evalue": "invalid decimal literal (42775412.py, line 1)",
     "output_type": "error",
     "traceback": [
      "\u001b[1;36m  Cell \u001b[1;32mIn[7], line 1\u001b[1;36m\u001b[0m\n\u001b[1;33m    1var = 100\u001b[0m\n\u001b[1;37m    ^\u001b[0m\n\u001b[1;31mSyntaxError\u001b[0m\u001b[1;31m:\u001b[0m invalid decimal literal\n"
     ]
    }
   ],
   "source": [
    "1var = 100"
   ]
  },
  {
   "cell_type": "markdown",
   "id": "765e7dad-a533-42d6-94c6-88c3ec98208b",
   "metadata": {},
   "source": [
    "- Nama variabel tidak boleh ada spasi"
   ]
  },
  {
   "cell_type": "code",
   "execution_count": 8,
   "id": "0c0362a0-82a5-4a1e-a42e-ead082b97ee9",
   "metadata": {},
   "outputs": [
    {
     "ename": "SyntaxError",
     "evalue": "invalid syntax (1970490562.py, line 1)",
     "output_type": "error",
     "traceback": [
      "\u001b[1;36m  Cell \u001b[1;32mIn[8], line 1\u001b[1;36m\u001b[0m\n\u001b[1;33m    var satu = 100\u001b[0m\n\u001b[1;37m        ^\u001b[0m\n\u001b[1;31mSyntaxError\u001b[0m\u001b[1;31m:\u001b[0m invalid syntax\n"
     ]
    }
   ],
   "source": [
    "var satu = 100"
   ]
  },
  {
   "cell_type": "markdown",
   "id": "f57998b4-c7c8-4497-a829-95eb80327b49",
   "metadata": {},
   "source": [
    "- Tidak boleh dimulai dengan simbol berikut:\n",
    "\n",
    "      :'\",<>/?|\\!@#%^&*~-+"
   ]
  },
  {
   "cell_type": "code",
   "execution_count": 9,
   "id": "7c829d25-85b7-4653-b5c9-b489dd4a2d94",
   "metadata": {},
   "outputs": [
    {
     "ename": "SyntaxError",
     "evalue": "cannot assign to expression here. Maybe you meant '==' instead of '='? (613800825.py, line 1)",
     "output_type": "error",
     "traceback": [
      "\u001b[1;36m  Cell \u001b[1;32mIn[9], line 1\u001b[1;36m\u001b[0m\n\u001b[1;33m    +var = 100\u001b[0m\n\u001b[1;37m    ^\u001b[0m\n\u001b[1;31mSyntaxError\u001b[0m\u001b[1;31m:\u001b[0m cannot assign to expression here. Maybe you meant '==' instead of '='?\n"
     ]
    }
   ],
   "source": [
    "+var = 100"
   ]
  },
  {
   "cell_type": "markdown",
   "id": "71da5905-1a1a-4142-b222-d1c69df76f51",
   "metadata": {},
   "source": [
    "- Nama variabel sebaiknya menggunakan huruf kecil ([PEP8](https://www.python.org/dev/peps/pep-0008/#function-and-variable-names))"
   ]
  },
  {
   "cell_type": "code",
   "execution_count": 10,
   "id": "8953c021-85fa-48a1-86f0-722b3dadf438",
   "metadata": {},
   "outputs": [],
   "source": [
    "var = 100"
   ]
  },
  {
   "cell_type": "code",
   "execution_count": 11,
   "id": "774efec5-8329-4208-8243-0ec2f3d310fe",
   "metadata": {},
   "outputs": [],
   "source": [
    "var_satu = 200"
   ]
  },
  {
   "cell_type": "code",
   "execution_count": 12,
   "id": "25806e71-2624-422a-bf95-7581d1b66b5d",
   "metadata": {},
   "outputs": [
    {
     "data": {
      "text/plain": [
       "200"
      ]
     },
     "execution_count": 12,
     "metadata": {},
     "output_type": "execute_result"
    }
   ],
   "source": [
    "var_satu"
   ]
  },
  {
   "cell_type": "markdown",
   "id": "a3707116-0422-4c98-a1b4-b553b74e47d4",
   "metadata": {},
   "source": [
    "- Nama variabel sebaiknya tidak mengikuti nama fungsi/metode pada python seperti: list, set, dsb."
   ]
  },
  {
   "cell_type": "code",
   "execution_count": 13,
   "id": "67109ada-4ae8-4244-ae5e-25c1a2c68ad5",
   "metadata": {},
   "outputs": [],
   "source": [
    "list = 100 #List adalah fungsi python, jadi tidak dianjurkan"
   ]
  },
  {
   "cell_type": "markdown",
   "id": "fca60d3c-8ef0-42cd-a368-03eabc2982fa",
   "metadata": {},
   "source": [
    "- Nama variabel sebaiknya mewakili nilai yang dikandung supaya mudah dimengerti."
   ]
  },
  {
   "cell_type": "code",
   "execution_count": 14,
   "id": "b40c82e8-93bd-4ba4-a57b-0ea4e1adafee",
   "metadata": {},
   "outputs": [],
   "source": [
    "umur = 30"
   ]
  },
  {
   "cell_type": "markdown",
   "id": "8a71cf4d-101f-4244-b92d-71c96f7b08b0",
   "metadata": {},
   "source": [
    "## 3. Sifat Dinamis Variabel\n",
    "- Kita tidak perlu mendeklarasikan tipe data pada variabel, secara otomatis python akan menentukannya\n",
    "- Build-In Function: **type()** digunakan untuk melihat tipe data variabel"
   ]
  },
  {
   "cell_type": "code",
   "execution_count": 15,
   "id": "7cf59a94-5645-4228-8e83-01a575f1d201",
   "metadata": {},
   "outputs": [],
   "source": [
    "nama = \"Joko\""
   ]
  },
  {
   "cell_type": "code",
   "execution_count": 16,
   "id": "9f641d31-12f0-4ad0-ad56-1f7eea0ee2fc",
   "metadata": {},
   "outputs": [
    {
     "data": {
      "text/plain": [
       "str"
      ]
     },
     "execution_count": 16,
     "metadata": {},
     "output_type": "execute_result"
    }
   ],
   "source": [
    "type(nama)"
   ]
  },
  {
   "cell_type": "code",
   "execution_count": 17,
   "id": "d33f2a1a-56f9-4659-8a89-bfc4b623b779",
   "metadata": {},
   "outputs": [],
   "source": [
    "umur = 20"
   ]
  },
  {
   "cell_type": "code",
   "execution_count": 18,
   "id": "a7154bf6-78c2-4698-b350-91c1f3c77f07",
   "metadata": {},
   "outputs": [
    {
     "data": {
      "text/plain": [
       "int"
      ]
     },
     "execution_count": 18,
     "metadata": {},
     "output_type": "execute_result"
    }
   ],
   "source": [
    "type(umur)"
   ]
  },
  {
   "cell_type": "markdown",
   "id": "40326178-a3f9-4809-9ab8-d0d3c52dd768",
   "metadata": {},
   "source": [
    "## 4. Membuat beberapa variabel sekaligus dalam satu baris kode"
   ]
  },
  {
   "cell_type": "code",
   "execution_count": 19,
   "id": "46c520b1-960a-44d2-8d93-f4ce1b3edb17",
   "metadata": {},
   "outputs": [],
   "source": [
    "nama, umur = \"Coki\", 15"
   ]
  },
  {
   "cell_type": "code",
   "execution_count": 20,
   "id": "3a44a9d6-9f2c-4801-8c0e-a9da75fe50d4",
   "metadata": {},
   "outputs": [
    {
     "data": {
      "text/plain": [
       "'Coki'"
      ]
     },
     "execution_count": 20,
     "metadata": {},
     "output_type": "execute_result"
    }
   ],
   "source": [
    "nama"
   ]
  },
  {
   "cell_type": "code",
   "execution_count": 21,
   "id": "b965d137-1acd-4c25-a4f0-55b0171ff151",
   "metadata": {},
   "outputs": [
    {
     "data": {
      "text/plain": [
       "15"
      ]
     },
     "execution_count": 21,
     "metadata": {},
     "output_type": "execute_result"
    }
   ],
   "source": [
    "umur"
   ]
  },
  {
   "cell_type": "markdown",
   "id": "33b47f96-8266-459e-bf1b-e3cd3f2b3ce1",
   "metadata": {},
   "source": [
    "## 5. Menghapus variabel dengan keyword **del**"
   ]
  },
  {
   "cell_type": "code",
   "execution_count": 22,
   "id": "6d5bb809-00d3-4a9b-a924-fdde918abe17",
   "metadata": {},
   "outputs": [
    {
     "data": {
      "text/plain": [
       "100"
      ]
     },
     "execution_count": 22,
     "metadata": {},
     "output_type": "execute_result"
    }
   ],
   "source": [
    "var"
   ]
  },
  {
   "cell_type": "code",
   "execution_count": 23,
   "id": "9146c8ad-7e96-445d-b612-37b667b43f04",
   "metadata": {},
   "outputs": [],
   "source": [
    "del var"
   ]
  },
  {
   "cell_type": "code",
   "execution_count": 24,
   "id": "fbc468d5-3750-4b95-be3d-779cbf5d55bb",
   "metadata": {},
   "outputs": [
    {
     "ename": "NameError",
     "evalue": "name 'var' is not defined",
     "output_type": "error",
     "traceback": [
      "\u001b[1;31m---------------------------------------------------------------------------\u001b[0m",
      "\u001b[1;31mNameError\u001b[0m                                 Traceback (most recent call last)",
      "Cell \u001b[1;32mIn[24], line 1\u001b[0m\n\u001b[1;32m----> 1\u001b[0m var\n",
      "\u001b[1;31mNameError\u001b[0m: name 'var' is not defined"
     ]
    }
   ],
   "source": [
    "var"
   ]
  },
  {
   "cell_type": "markdown",
   "id": "b67ac82c-f82b-488b-b32c-c63e9b9f2159",
   "metadata": {},
   "source": [
    "## 6. Reassignment Variabel"
   ]
  },
  {
   "cell_type": "code",
   "execution_count": 29,
   "id": "a670f086-0408-419c-906f-9390081daa61",
   "metadata": {},
   "outputs": [],
   "source": [
    "var = 100"
   ]
  },
  {
   "cell_type": "code",
   "execution_count": 30,
   "id": "b9fa2aca-7221-4f74-90cf-829d5191e2a6",
   "metadata": {},
   "outputs": [
    {
     "data": {
      "text/plain": [
       "100"
      ]
     },
     "execution_count": 30,
     "metadata": {},
     "output_type": "execute_result"
    }
   ],
   "source": [
    "var"
   ]
  },
  {
   "cell_type": "code",
   "execution_count": 31,
   "id": "54b0726f-de51-4430-b683-26843854048e",
   "metadata": {},
   "outputs": [],
   "source": [
    "var = 200"
   ]
  },
  {
   "cell_type": "code",
   "execution_count": 32,
   "id": "213e568d-4af0-4fbd-8346-d9480c5eeecd",
   "metadata": {},
   "outputs": [
    {
     "data": {
      "text/plain": [
       "200"
      ]
     },
     "execution_count": 32,
     "metadata": {},
     "output_type": "execute_result"
    }
   ],
   "source": [
    "var"
   ]
  }
 ],
 "metadata": {
  "kernelspec": {
   "display_name": "Python 3 (ipykernel)",
   "language": "python",
   "name": "python3"
  },
  "language_info": {
   "codemirror_mode": {
    "name": "ipython",
    "version": 3
   },
   "file_extension": ".py",
   "mimetype": "text/x-python",
   "name": "python",
   "nbconvert_exporter": "python",
   "pygments_lexer": "ipython3",
   "version": "3.11.7"
  }
 },
 "nbformat": 4,
 "nbformat_minor": 5
}
